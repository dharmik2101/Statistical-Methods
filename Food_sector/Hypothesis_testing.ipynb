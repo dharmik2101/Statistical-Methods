{
 "cells": [
  {
   "cell_type": "code",
   "execution_count": 1,
   "metadata": {},
   "outputs": [
    {
     "name": "stdout",
     "output_type": "stream",
     "text": [
      "{'t-statistic': np.float64(13.869318373690522), 'p-value': np.float64(1.521761751260728e-27)}\n"
     ]
    },
    {
     "name": "stderr",
     "output_type": "stream",
     "text": [
      "C:\\Users\\dshah\\AppData\\Local\\Temp\\ipykernel_9816\\2389101810.py:6: SettingWithCopyWarning: \n",
      "A value is trying to be set on a copy of a slice from a DataFrame.\n",
      "Try using .loc[row_indexer,col_indexer] = value instead\n",
      "\n",
      "See the caveats in the documentation: https://pandas.pydata.org/pandas-docs/stable/user_guide/indexing.html#returning-a-view-versus-a-copy\n",
      "  data['loss_percentage'] = pd.to_numeric(data['loss_percentage'], errors='coerce')\n"
     ]
    }
   ],
   "source": [
    "import pandas as pd\n",
    "from scipy.stats import ttest_ind\n",
    "\n",
    "def clean_data(data):\n",
    "    data = data.dropna(subset=['loss_percentage', 'loss_quantity', 'commodity'])\n",
    "    data['loss_percentage'] = pd.to_numeric(data['loss_percentage'], errors='coerce')\n",
    "    data = data.drop_duplicates()\n",
    "    return data\n",
    "\n",
    "def t_test(data, group_column, value_column):\n",
    "    \"\"\"\n",
    "    Perform a t-test between two groups for a given value column.\n",
    "    \"\"\"\n",
    "    groups = data[group_column].unique()\n",
    "    if len(groups) < 2:\n",
    "        raise ValueError(\"Not enough groups for a t-test.\")\n",
    "    \n",
    "    group1 = data[data[group_column] == groups[0]][value_column]\n",
    "    group2 = data[data[group_column] == groups[1]][value_column]\n",
    "    t_stat, p_value = ttest_ind(group1, group2, nan_policy='omit')\n",
    "    return {\"t-statistic\": t_stat, \"p-value\": p_value}\n",
    "\n",
    "if __name__ == \"__main__\":\n",
    "    data = pd.read_csv(r\"C:\\Users\\dshah\\OneDrive\\Documents/cleaned_FAO_food_loss.csv\")\n",
    "    cleaned_data = clean_data(data)\n",
    "    result = t_test(cleaned_data, \"commodity\", \"loss_percentage\")\n",
    "    print(result)\n"
   ]
  }
 ],
 "metadata": {
  "kernelspec": {
   "display_name": "Python 3",
   "language": "python",
   "name": "python3"
  },
  "language_info": {
   "codemirror_mode": {
    "name": "ipython",
    "version": 3
   },
   "file_extension": ".py",
   "mimetype": "text/x-python",
   "name": "python",
   "nbconvert_exporter": "python",
   "pygments_lexer": "ipython3",
   "version": "3.11.9"
  }
 },
 "nbformat": 4,
 "nbformat_minor": 2
}
