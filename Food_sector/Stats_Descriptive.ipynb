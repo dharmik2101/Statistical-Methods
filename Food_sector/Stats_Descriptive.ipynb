{
 "cells": [
  {
   "cell_type": "code",
   "execution_count": 2,
   "metadata": {},
   "outputs": [
    {
     "name": "stdout",
     "output_type": "stream",
     "text": [
      "{'Mean': np.float64(3.966542929292929), 'Median': np.float64(2.66), 'Mode': np.float64(1.0), 'Variance': np.float64(14.65548536819955), 'Standard Deviation': np.float64(3.8282483420227)}\n"
     ]
    },
    {
     "name": "stderr",
     "output_type": "stream",
     "text": [
      "C:\\Users\\dshah\\AppData\\Local\\Temp\\ipykernel_11728\\1009301950.py:11: SettingWithCopyWarning: \n",
      "A value is trying to be set on a copy of a slice from a DataFrame.\n",
      "Try using .loc[row_indexer,col_indexer] = value instead\n",
      "\n",
      "See the caveats in the documentation: https://pandas.pydata.org/pandas-docs/stable/user_guide/indexing.html#returning-a-view-versus-a-copy\n",
      "  data['loss_percentage'] = pd.to_numeric(data['loss_percentage'], errors='coerce')\n",
      "C:\\Users\\dshah\\AppData\\Local\\Temp\\ipykernel_11728\\1009301950.py:12: SettingWithCopyWarning: \n",
      "A value is trying to be set on a copy of a slice from a DataFrame.\n",
      "Try using .loc[row_indexer,col_indexer] = value instead\n",
      "\n",
      "See the caveats in the documentation: https://pandas.pydata.org/pandas-docs/stable/user_guide/indexing.html#returning-a-view-versus-a-copy\n",
      "  data['loss_quantity'] = pd.to_numeric(data['loss_quantity'], errors='coerce')\n"
     ]
    }
   ],
   "source": [
    "import pandas as pd\n",
    "import numpy as np\n",
    "from scipy.stats import mode\n",
    "\n",
    "# Cleaning and descriptive statistics\n",
    "def clean_data(data):\n",
    "    \"\"\"\n",
    "    Clean the dataset by handling missing values, ensuring numeric types, and removing duplicates.\n",
    "    \"\"\"\n",
    "    data = data.dropna(subset=['loss_percentage', 'loss_quantity'])\n",
    "    data['loss_percentage'] = pd.to_numeric(data['loss_percentage'], errors='coerce')\n",
    "    data['loss_quantity'] = pd.to_numeric(data['loss_quantity'], errors='coerce')\n",
    "    data = data.drop_duplicates()\n",
    "    return data\n",
    "\n",
    "def descriptive_statistics(data, column):\n",
    "    \"\"\"\n",
    "    Calculate mean, median, mode, variance, and standard deviation for a given column.\n",
    "    \"\"\"\n",
    "    return {\n",
    "        \"Mean\": np.mean(data[column]),\n",
    "        \"Median\": np.median(data[column]),\n",
    "        \"Mode\": mode(data[column], keepdims=True).mode[0],\n",
    "        \"Variance\": np.var(data[column], ddof=1),\n",
    "        \"Standard Deviation\": np.std(data[column], ddof=1),\n",
    "    }\n",
    "\n",
    "# Example usage\n",
    "if __name__ == \"__main__\":\n",
    "    data = pd.read_csv(r\"C:\\Users\\dshah\\OneDrive\\Documents/cleaned_FAO_food_loss.csv\")\n",
    "    cleaned_data = clean_data(data)\n",
    "    stats = descriptive_statistics(cleaned_data, \"loss_percentage\")\n",
    "    print(stats)\n"
   ]
  }
 ],
 "metadata": {
  "kernelspec": {
   "display_name": "Python 3",
   "language": "python",
   "name": "python3"
  },
  "language_info": {
   "codemirror_mode": {
    "name": "ipython",
    "version": 3
   },
   "file_extension": ".py",
   "mimetype": "text/x-python",
   "name": "python",
   "nbconvert_exporter": "python",
   "pygments_lexer": "ipython3",
   "version": "3.11.9"
  }
 },
 "nbformat": 4,
 "nbformat_minor": 2
}
