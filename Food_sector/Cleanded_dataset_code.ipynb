{
 "cells": [
  {
   "cell_type": "code",
   "execution_count": 9,
   "metadata": {},
   "outputs": [],
   "source": [
    "import pandas as pd\n",
    "\n",
    "# Load the dataset\n",
    "data = pd.read_csv(r\"C:\\Users\\dshah\\OneDrive\\Documents\\FAO_food_loss_2000_2021.csv\")\n",
    "\n",
    "# Drop rows with missing values in relevant columns\n",
    "data = data.dropna(subset=['loss_percentage', 'loss_quantity'])\n",
    "\n",
    "# Convert relevant columns to numeric\n",
    "data['loss_percentage'] = pd.to_numeric(data['loss_percentage'], errors='coerce')\n",
    "data['loss_quantity'] = pd.to_numeric(data['loss_quantity'], errors='coerce')\n",
    "\n",
    "# Remove duplicates\n",
    "data = data.drop_duplicates()\n",
    "\n",
    "# Handle outliers using IQR\n",
    "Q1 = data['loss_percentage'].quantile(0.25)\n",
    "Q3 = data['loss_percentage'].quantile(0.75)\n",
    "IQR = Q3 - Q1\n",
    "data = data[(data['loss_percentage'] >= Q1 - 1.5 * IQR) & (data['loss_percentage'] <= Q3 + 1.5 * IQR)]\n",
    "\n",
    "# Save cleaned dataset\n",
    "data.to_csv(r\"C:\\Users\\dshah\\OneDrive\\Documents/cleaned_FAO_food_loss.csv\", index=False)\n"
   ]
  }
 ],
 "metadata": {
  "kernelspec": {
   "display_name": "Python 3",
   "language": "python",
   "name": "python3"
  },
  "language_info": {
   "codemirror_mode": {
    "name": "ipython",
    "version": 3
   },
   "file_extension": ".py",
   "mimetype": "text/x-python",
   "name": "python",
   "nbconvert_exporter": "python",
   "pygments_lexer": "ipython3",
   "version": "3.11.9"
  }
 },
 "nbformat": 4,
 "nbformat_minor": 2
}
